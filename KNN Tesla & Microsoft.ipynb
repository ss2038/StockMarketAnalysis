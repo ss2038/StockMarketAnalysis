{
 "cells": [
  {
   "cell_type": "code",
   "execution_count": 1,
   "id": "8d73538e",
   "metadata": {},
   "outputs": [],
   "source": [
    "import numpy as np\n",
    "import pandas as pd \n",
    "from sklearn.metrics import accuracy_score\n",
    "import plotly.express as px\n",
    "import plotly.graph_objects as go\n",
    "from plotly.subplots import make_subplots\n",
    "import plotly.io as pio\n",
    "pio.templates.default = \"plotly_white\"\n",
    "import matplotlib.pyplot as plt\n",
    "import os\n",
    "from mplfinance.original_flavor import candlestick_ohlc\n",
    "import matplotlib.dates as mdates\n",
    "import seaborn as sns\n",
    "from sklearn.preprocessing import MinMaxScaler\n",
    "from tensorflow.keras.models import Sequential\n",
    "from tensorflow.keras.layers import LSTM, Dense\n",
    "from sklearn.metrics import mean_squared_error\n",
    "from sklearn.model_selection import train_test_split\n",
    "from sklearn.preprocessing import StandardScaler\n",
    "from sklearn.neighbors import KNeighborsRegressor\n",
    "from sklearn.metrics import mean_squared_error\n",
    "from sklearn.model_selection import train_test_split, GridSearchCV"
   ]
  },
  {
   "cell_type": "code",
   "execution_count": 2,
   "id": "fdf966e7",
   "metadata": {},
   "outputs": [],
   "source": [
    "folder_path = 'C:\\\\Users\\\\akshi_sh9bvdj\\\\Downloads\\\\archive\\\\stock_market_data\\\\forbes2000\\\\csv'\n",
    "csv_files = [file for file in os.listdir(folder_path) if file.endswith('.csv')]"
   ]
  },
  {
   "cell_type": "code",
   "execution_count": 3,
   "id": "c66bdde1",
   "metadata": {},
   "outputs": [],
   "source": [
    "dataframes = [pd.read_csv(os.path.join(folder_path, file)) for file in csv_files]"
   ]
  },
  {
   "cell_type": "code",
   "execution_count": 4,
   "id": "df43d6b8",
   "metadata": {},
   "outputs": [],
   "source": [
    "# Combine All the datasets into 1\n",
    "dataframes = []\n",
    "for file in csv_files:\n",
    "    # Read the CSV\n",
    "    df = pd.read_csv(os.path.join(folder_path, file))\n",
    "    \n",
    "    # Add a new column representing the filename without the \".csv\" extension\n",
    "    filename_without_extension = os.path.splitext(file)[0]\n",
    "    df.insert(0, 'Name', filename_without_extension)\n",
    "    df['Name'] = filename_without_extension\n",
    "    dataframes.append(df)\n",
    "\n",
    "# Concatenate all DataFrames\n",
    "stocks_df = pd.concat(dataframes, ignore_index=True)\n",
    "\n",
    "# Save new merged Dataset\n",
    "stocks_df.to_csv('merged_dataset_with_id.csv', index=False)"
   ]
  },
  {
   "cell_type": "code",
   "execution_count": 5,
   "id": "5e65a1de",
   "metadata": {},
   "outputs": [
    {
     "data": {
      "text/html": [
       "<div>\n",
       "<style scoped>\n",
       "    .dataframe tbody tr th:only-of-type {\n",
       "        vertical-align: middle;\n",
       "    }\n",
       "\n",
       "    .dataframe tbody tr th {\n",
       "        vertical-align: top;\n",
       "    }\n",
       "\n",
       "    .dataframe thead th {\n",
       "        text-align: right;\n",
       "    }\n",
       "</style>\n",
       "<table border=\"1\" class=\"dataframe\">\n",
       "  <thead>\n",
       "    <tr style=\"text-align: right;\">\n",
       "      <th></th>\n",
       "      <th>Name</th>\n",
       "      <th>Date</th>\n",
       "      <th>Low</th>\n",
       "      <th>Open</th>\n",
       "      <th>Volume</th>\n",
       "      <th>High</th>\n",
       "      <th>Close</th>\n",
       "      <th>Adjusted Close</th>\n",
       "    </tr>\n",
       "  </thead>\n",
       "  <tbody>\n",
       "    <tr>\n",
       "      <th>5601966</th>\n",
       "      <td>ZURVY</td>\n",
       "      <td>06-12-2022</td>\n",
       "      <td>47.810001</td>\n",
       "      <td>48.029999</td>\n",
       "      <td>42700.0</td>\n",
       "      <td>48.209999</td>\n",
       "      <td>47.980000</td>\n",
       "      <td>47.980000</td>\n",
       "    </tr>\n",
       "    <tr>\n",
       "      <th>5601967</th>\n",
       "      <td>ZURVY</td>\n",
       "      <td>07-12-2022</td>\n",
       "      <td>47.740002</td>\n",
       "      <td>47.959999</td>\n",
       "      <td>74800.0</td>\n",
       "      <td>48.130001</td>\n",
       "      <td>47.810001</td>\n",
       "      <td>47.810001</td>\n",
       "    </tr>\n",
       "    <tr>\n",
       "      <th>5601968</th>\n",
       "      <td>ZURVY</td>\n",
       "      <td>08-12-2022</td>\n",
       "      <td>47.880001</td>\n",
       "      <td>47.950001</td>\n",
       "      <td>72300.0</td>\n",
       "      <td>48.290001</td>\n",
       "      <td>48.160000</td>\n",
       "      <td>48.160000</td>\n",
       "    </tr>\n",
       "    <tr>\n",
       "      <th>5601969</th>\n",
       "      <td>ZURVY</td>\n",
       "      <td>09-12-2022</td>\n",
       "      <td>48.259998</td>\n",
       "      <td>48.470001</td>\n",
       "      <td>65600.0</td>\n",
       "      <td>48.740002</td>\n",
       "      <td>48.310001</td>\n",
       "      <td>48.310001</td>\n",
       "    </tr>\n",
       "    <tr>\n",
       "      <th>5601970</th>\n",
       "      <td>ZURVY</td>\n",
       "      <td>12-12-2022</td>\n",
       "      <td>48.044998</td>\n",
       "      <td>48.189999</td>\n",
       "      <td>13244.0</td>\n",
       "      <td>48.189999</td>\n",
       "      <td>48.044998</td>\n",
       "      <td>48.044998</td>\n",
       "    </tr>\n",
       "  </tbody>\n",
       "</table>\n",
       "</div>"
      ],
      "text/plain": [
       "          Name        Date        Low       Open   Volume       High  \\\n",
       "5601966  ZURVY  06-12-2022  47.810001  48.029999  42700.0  48.209999   \n",
       "5601967  ZURVY  07-12-2022  47.740002  47.959999  74800.0  48.130001   \n",
       "5601968  ZURVY  08-12-2022  47.880001  47.950001  72300.0  48.290001   \n",
       "5601969  ZURVY  09-12-2022  48.259998  48.470001  65600.0  48.740002   \n",
       "5601970  ZURVY  12-12-2022  48.044998  48.189999  13244.0  48.189999   \n",
       "\n",
       "             Close  Adjusted Close  \n",
       "5601966  47.980000       47.980000  \n",
       "5601967  47.810001       47.810001  \n",
       "5601968  48.160000       48.160000  \n",
       "5601969  48.310001       48.310001  \n",
       "5601970  48.044998       48.044998  "
      ]
     },
     "execution_count": 5,
     "metadata": {},
     "output_type": "execute_result"
    }
   ],
   "source": [
    "stocks_df.tail(5)"
   ]
  },
  {
   "cell_type": "code",
   "execution_count": 6,
   "id": "337aa680",
   "metadata": {},
   "outputs": [
    {
     "name": "stdout",
     "output_type": "stream",
     "text": [
      "          Name        Date        Low       Open      Volume       High  \\\n",
      "0            A  18-11-1999  28.612303  32.546494  62546380.0  35.765381   \n",
      "1            A  19-11-1999  28.478184  30.713518  15234146.0  30.758226   \n",
      "2            A  22-11-1999  28.657009  29.551144   6577870.0  31.473534   \n",
      "3            A  23-11-1999  28.612303  30.400572   5975611.0  31.205294   \n",
      "4            A  24-11-1999  28.612303  28.701717   4843231.0  29.998213   \n",
      "...        ...         ...        ...        ...         ...        ...   \n",
      "5601966  ZURVY  06-12-2022  47.810001  48.029999     42700.0  48.209999   \n",
      "5601967  ZURVY  07-12-2022  47.740002  47.959999     74800.0  48.130001   \n",
      "5601968  ZURVY  08-12-2022  47.880001  47.950001     72300.0  48.290001   \n",
      "5601969  ZURVY  09-12-2022  48.259998  48.470001     65600.0  48.740002   \n",
      "5601970  ZURVY  12-12-2022  48.044998  48.189999     13244.0  48.189999   \n",
      "\n",
      "             Close  Adjusted Close  \n",
      "0        31.473534       27.066582  \n",
      "1        28.880545       24.836662  \n",
      "2        31.473534       27.066582  \n",
      "3        28.612303       24.605980  \n",
      "4        29.372318       25.259573  \n",
      "...            ...             ...  \n",
      "5601966  47.980000       47.980000  \n",
      "5601967  47.810001       47.810001  \n",
      "5601968  48.160000       48.160000  \n",
      "5601969  48.310001       48.310001  \n",
      "5601970  48.044998       48.044998  \n",
      "\n",
      "[5601971 rows x 8 columns]\n"
     ]
    }
   ],
   "source": [
    "print(stocks_df)"
   ]
  },
  {
   "cell_type": "code",
   "execution_count": 7,
   "id": "dc9e1b2b",
   "metadata": {},
   "outputs": [
    {
     "name": "stdout",
     "output_type": "stream",
     "text": [
      "          Name       Date        Low       Open      Volume       High  \\\n",
      "0            A 1999-11-18  28.612303  32.546494  62546380.0  35.765381   \n",
      "1            A 1999-11-19  28.478184  30.713518  15234146.0  30.758226   \n",
      "2            A 1999-11-22  28.657009  29.551144   6577870.0  31.473534   \n",
      "3            A 1999-11-23  28.612303  30.400572   5975611.0  31.205294   \n",
      "4            A 1999-11-24  28.612303  28.701717   4843231.0  29.998213   \n",
      "...        ...        ...        ...        ...         ...        ...   \n",
      "5601966  ZURVY 2022-12-06  47.810001  48.029999     42700.0  48.209999   \n",
      "5601967  ZURVY 2022-12-07  47.740002  47.959999     74800.0  48.130001   \n",
      "5601968  ZURVY 2022-12-08  47.880001  47.950001     72300.0  48.290001   \n",
      "5601969  ZURVY 2022-12-09  48.259998  48.470001     65600.0  48.740002   \n",
      "5601970  ZURVY 2022-12-12  48.044998  48.189999     13244.0  48.189999   \n",
      "\n",
      "             Close  Adjusted Close  \n",
      "0        31.473534       27.066582  \n",
      "1        28.880545       24.836662  \n",
      "2        31.473534       27.066582  \n",
      "3        28.612303       24.605980  \n",
      "4        29.372318       25.259573  \n",
      "...            ...             ...  \n",
      "5601966  47.980000       47.980000  \n",
      "5601967  47.810001       47.810001  \n",
      "5601968  48.160000       48.160000  \n",
      "5601969  48.310001       48.310001  \n",
      "5601970  48.044998       48.044998  \n",
      "\n",
      "[5601971 rows x 8 columns]\n"
     ]
    }
   ],
   "source": [
    "# Convert Date column to datetime\n",
    "stocks_df['Date'] = pd.to_datetime(stocks_df['Date'], format='%d-%m-%Y')\n",
    "print(stocks_df)"
   ]
  },
  {
   "cell_type": "code",
   "execution_count": 8,
   "id": "d11d775b",
   "metadata": {},
   "outputs": [
    {
     "name": "stdout",
     "output_type": "stream",
     "text": [
      "<class 'pandas.core.frame.DataFrame'>\n",
      "RangeIndex: 5601971 entries, 0 to 5601970\n",
      "Data columns (total 8 columns):\n",
      " #   Column          Dtype         \n",
      "---  ------          -----         \n",
      " 0   Name            object        \n",
      " 1   Date            datetime64[ns]\n",
      " 2   Low             float64       \n",
      " 3   Open            float64       \n",
      " 4   Volume          float64       \n",
      " 5   High            float64       \n",
      " 6   Close           float64       \n",
      " 7   Adjusted Close  float64       \n",
      "dtypes: datetime64[ns](1), float64(6), object(1)\n",
      "memory usage: 341.9+ MB\n"
     ]
    }
   ],
   "source": [
    "stocks_df.info()"
   ]
  },
  {
   "cell_type": "code",
   "execution_count": 9,
   "id": "5b2496b3",
   "metadata": {},
   "outputs": [
    {
     "data": {
      "text/html": [
       "<div>\n",
       "<style scoped>\n",
       "    .dataframe tbody tr th:only-of-type {\n",
       "        vertical-align: middle;\n",
       "    }\n",
       "\n",
       "    .dataframe tbody tr th {\n",
       "        vertical-align: top;\n",
       "    }\n",
       "\n",
       "    .dataframe thead th {\n",
       "        text-align: right;\n",
       "    }\n",
       "</style>\n",
       "<table border=\"1\" class=\"dataframe\">\n",
       "  <thead>\n",
       "    <tr style=\"text-align: right;\">\n",
       "      <th></th>\n",
       "      <th>Date</th>\n",
       "      <th>Low</th>\n",
       "      <th>Open</th>\n",
       "      <th>Volume</th>\n",
       "      <th>High</th>\n",
       "      <th>Close</th>\n",
       "      <th>Adjusted Close</th>\n",
       "    </tr>\n",
       "  </thead>\n",
       "  <tbody>\n",
       "    <tr>\n",
       "      <th>count</th>\n",
       "      <td>5601971</td>\n",
       "      <td>5.555576e+06</td>\n",
       "      <td>5.555576e+06</td>\n",
       "      <td>5.555576e+06</td>\n",
       "      <td>5.555576e+06</td>\n",
       "      <td>5.555576e+06</td>\n",
       "      <td>5.555576e+06</td>\n",
       "    </tr>\n",
       "    <tr>\n",
       "      <th>mean</th>\n",
       "      <td>2008-07-17 12:31:32.920901888</td>\n",
       "      <td>1.789278e+07</td>\n",
       "      <td>1.789299e+07</td>\n",
       "      <td>3.055431e+06</td>\n",
       "      <td>1.789346e+07</td>\n",
       "      <td>1.789299e+07</td>\n",
       "      <td>-1.213999e+28</td>\n",
       "    </tr>\n",
       "    <tr>\n",
       "      <th>min</th>\n",
       "      <td>1970-01-02 00:00:00</td>\n",
       "      <td>0.000000e+00</td>\n",
       "      <td>0.000000e+00</td>\n",
       "      <td>0.000000e+00</td>\n",
       "      <td>0.000000e+00</td>\n",
       "      <td>0.000000e+00</td>\n",
       "      <td>-2.554577e+34</td>\n",
       "    </tr>\n",
       "    <tr>\n",
       "      <th>25%</th>\n",
       "      <td>2001-10-03 00:00:00</td>\n",
       "      <td>7.330000e+00</td>\n",
       "      <td>7.200000e+00</td>\n",
       "      <td>5.700000e+03</td>\n",
       "      <td>7.491303e+00</td>\n",
       "      <td>7.410000e+00</td>\n",
       "      <td>4.450642e+00</td>\n",
       "    </tr>\n",
       "    <tr>\n",
       "      <th>50%</th>\n",
       "      <td>2011-11-07 00:00:00</td>\n",
       "      <td>1.900000e+01</td>\n",
       "      <td>1.911000e+01</td>\n",
       "      <td>3.099000e+05</td>\n",
       "      <td>1.940000e+01</td>\n",
       "      <td>1.920000e+01</td>\n",
       "      <td>1.364000e+01</td>\n",
       "    </tr>\n",
       "    <tr>\n",
       "      <th>75%</th>\n",
       "      <td>2017-09-05 00:00:00</td>\n",
       "      <td>4.196000e+01</td>\n",
       "      <td>4.236000e+01</td>\n",
       "      <td>1.789100e+06</td>\n",
       "      <td>4.285000e+01</td>\n",
       "      <td>4.241000e+01</td>\n",
       "      <td>3.342836e+01</td>\n",
       "    </tr>\n",
       "    <tr>\n",
       "      <th>max</th>\n",
       "      <td>2022-12-12 00:00:00</td>\n",
       "      <td>8.324640e+12</td>\n",
       "      <td>8.324640e+12</td>\n",
       "      <td>7.421641e+09</td>\n",
       "      <td>8.324640e+12</td>\n",
       "      <td>8.324640e+12</td>\n",
       "      <td>3.904317e+31</td>\n",
       "    </tr>\n",
       "    <tr>\n",
       "      <th>std</th>\n",
       "      <td>NaN</td>\n",
       "      <td>8.180296e+09</td>\n",
       "      <td>8.180296e+09</td>\n",
       "      <td>2.360794e+07</td>\n",
       "      <td>8.180296e+09</td>\n",
       "      <td>8.180296e+09</td>\n",
       "      <td>1.102262e+31</td>\n",
       "    </tr>\n",
       "  </tbody>\n",
       "</table>\n",
       "</div>"
      ],
      "text/plain": [
       "                                Date           Low          Open  \\\n",
       "count                        5601971  5.555576e+06  5.555576e+06   \n",
       "mean   2008-07-17 12:31:32.920901888  1.789278e+07  1.789299e+07   \n",
       "min              1970-01-02 00:00:00  0.000000e+00  0.000000e+00   \n",
       "25%              2001-10-03 00:00:00  7.330000e+00  7.200000e+00   \n",
       "50%              2011-11-07 00:00:00  1.900000e+01  1.911000e+01   \n",
       "75%              2017-09-05 00:00:00  4.196000e+01  4.236000e+01   \n",
       "max              2022-12-12 00:00:00  8.324640e+12  8.324640e+12   \n",
       "std                              NaN  8.180296e+09  8.180296e+09   \n",
       "\n",
       "             Volume          High         Close  Adjusted Close  \n",
       "count  5.555576e+06  5.555576e+06  5.555576e+06    5.555576e+06  \n",
       "mean   3.055431e+06  1.789346e+07  1.789299e+07   -1.213999e+28  \n",
       "min    0.000000e+00  0.000000e+00  0.000000e+00   -2.554577e+34  \n",
       "25%    5.700000e+03  7.491303e+00  7.410000e+00    4.450642e+00  \n",
       "50%    3.099000e+05  1.940000e+01  1.920000e+01    1.364000e+01  \n",
       "75%    1.789100e+06  4.285000e+01  4.241000e+01    3.342836e+01  \n",
       "max    7.421641e+09  8.324640e+12  8.324640e+12    3.904317e+31  \n",
       "std    2.360794e+07  8.180296e+09  8.180296e+09    1.102262e+31  "
      ]
     },
     "execution_count": 9,
     "metadata": {},
     "output_type": "execute_result"
    }
   ],
   "source": [
    "stocks_df.describe()"
   ]
  },
  {
   "cell_type": "markdown",
   "id": "746af216",
   "metadata": {},
   "source": [
    "## K Nearest Neighbour\n",
    "\n",
    "### Based on the independent variables, KNN finds the similarity between new data points and old data points.\n",
    "\n",
    "### We will implement the KNN model for only Tesla and Microsoft stocks¶"
   ]
  },
  {
   "cell_type": "code",
   "execution_count": 10,
   "id": "8280f135",
   "metadata": {},
   "outputs": [
    {
     "name": "stdout",
     "output_type": "stream",
     "text": [
      "         Name       Date         Low        Open       Volume        High  \\\n",
      "5031552  TSLA 2010-06-29    1.169333    1.266667  281494500.0    1.666667   \n",
      "5031553  TSLA 2010-06-30    1.553333    1.719333  257806500.0    2.028000   \n",
      "5031554  TSLA 2010-07-01    1.351333    1.666667  123282000.0    1.728000   \n",
      "5031555  TSLA 2010-07-02    1.247333    1.533333   77097000.0    1.540000   \n",
      "5031556  TSLA 2010-07-06    1.055333    1.333333  103003500.0    1.333333   \n",
      "...       ...        ...         ...         ...          ...         ...   \n",
      "5034684  TSLA 2022-12-06  175.330002  181.220001   92150800.0  183.649994   \n",
      "5034685  TSLA 2022-12-07  172.220001  175.029999   84213300.0  179.380005   \n",
      "5034686  TSLA 2022-12-08  169.059998  172.199997   97624500.0  175.199997   \n",
      "5034687  TSLA 2022-12-09  173.360001  173.839996  104746600.0  182.500000   \n",
      "5034688  TSLA 2022-12-12  170.389999  176.100006   36780366.0  177.359894   \n",
      "\n",
      "              Close  Adjusted Close  \n",
      "5031552    1.592667        1.592667  \n",
      "5031553    1.588667        1.588667  \n",
      "5031554    1.464000        1.464000  \n",
      "5031555    1.280000        1.280000  \n",
      "5031556    1.074000        1.074000  \n",
      "...             ...             ...  \n",
      "5034684  179.820007      179.820007  \n",
      "5034685  174.039993      174.039993  \n",
      "5034686  173.440002      173.440002  \n",
      "5034687  179.050003      179.050003  \n",
      "5034688  172.190002      172.190002  \n",
      "\n",
      "[3137 rows x 8 columns]\n"
     ]
    },
    {
     "name": "stderr",
     "output_type": "stream",
     "text": [
      "C:\\Users\\akshi_sh9bvdj\\AppData\\Local\\Temp\\ipykernel_21464\\3533593648.py:5: SettingWithCopyWarning: \n",
      "A value is trying to be set on a copy of a slice from a DataFrame\n",
      "\n",
      "See the caveats in the documentation: https://pandas.pydata.org/pandas-docs/stable/user_guide/indexing.html#returning-a-view-versus-a-copy\n",
      "  tesla_df.sort_values(by='Date', inplace=True)\n"
     ]
    }
   ],
   "source": [
    "# Filter out Tesla data\n",
    "tesla_df = stocks_df[stocks_df['Name'] == 'TSLA']\n",
    "\n",
    "# Sort the dataframe by Date\n",
    "tesla_df.sort_values(by='Date', inplace=True)\n",
    "print(tesla_df)"
   ]
  },
  {
   "cell_type": "code",
   "execution_count": 11,
   "id": "af105525",
   "metadata": {},
   "outputs": [
    {
     "data": {
      "text/plain": [
       "Name              0\n",
       "Date              0\n",
       "Low               0\n",
       "Open              0\n",
       "Volume            0\n",
       "High              0\n",
       "Close             0\n",
       "Adjusted Close    0\n",
       "dtype: int64"
      ]
     },
     "execution_count": 11,
     "metadata": {},
     "output_type": "execute_result"
    }
   ],
   "source": [
    "tesla_df.isnull().sum()"
   ]
  },
  {
   "cell_type": "code",
   "execution_count": 12,
   "id": "e948c1ee",
   "metadata": {},
   "outputs": [
    {
     "data": {
      "text/plain": [
       "5031552   2010-06-29\n",
       "5031553   2010-06-30\n",
       "5031554   2010-07-01\n",
       "5031555   2010-07-02\n",
       "5031556   2010-07-06\n",
       "             ...    \n",
       "5034684   2022-12-06\n",
       "5034685   2022-12-07\n",
       "5034686   2022-12-08\n",
       "5034687   2022-12-09\n",
       "5034688   2022-12-12\n",
       "Name: Date, Length: 3137, dtype: datetime64[ns]"
      ]
     },
     "execution_count": 12,
     "metadata": {},
     "output_type": "execute_result"
    }
   ],
   "source": [
    "tesla_df['Date']"
   ]
  },
  {
   "cell_type": "code",
   "execution_count": 13,
   "id": "138047ab",
   "metadata": {},
   "outputs": [],
   "source": [
    "# Set 'Date' column as the index\n",
    "tesla_df.set_index('Date', inplace=True)"
   ]
  },
  {
   "cell_type": "code",
   "execution_count": 14,
   "id": "f9a34c0c",
   "metadata": {},
   "outputs": [
    {
     "name": "stdout",
     "output_type": "stream",
     "text": [
      "*********Tesla STOCK PRICE PREDICTION BY K-NEAREST NEIGHBORS*********\n",
      "Shape of Training Data Set (2353, 1)\n",
      "Shape of Test Data Set (784, 1)\n",
      "(Root Mean Square Error) RMSE value on validation set: 205.44299141105506\n",
      "R-squared: -3.0457617959249568\n",
      "Adjusted R-squared: -3.0509354043596435\n"
     ]
    },
    {
     "name": "stderr",
     "output_type": "stream",
     "text": [
      "C:\\Users\\akshi_sh9bvdj\\AppData\\Local\\Temp\\ipykernel_21464\\2780914730.py:40: SettingWithCopyWarning: \n",
      "A value is trying to be set on a copy of a slice from a DataFrame.\n",
      "Try using .loc[row_indexer,col_indexer] = value instead\n",
      "\n",
      "See the caveats in the documentation: https://pandas.pydata.org/pandas-docs/stable/user_guide/indexing.html#returning-a-view-versus-a-copy\n",
      "  test_data_set['Predictions'] = preds\n"
     ]
    },
    {
     "data": {
      "image/png": "[encoded data removed]",
      "text/plain": [
       "<Figure size 640x480 with 1 Axes>"
      ]
     },
     "metadata": {},
     "output_type": "display_data"
    }
   ],
   "source": [
    "import datetime as dt\n",
    "import numpy as np\n",
    "import pandas as pd\n",
    "import matplotlib.pyplot as plt\n",
    "from sklearn import neighbors\n",
    "from sklearn.model_selection import GridSearchCV\n",
    "from math import ceil\n",
    "from sklearn.preprocessing import MinMaxScaler\n",
    "from sklearn.metrics import r2_score\n",
    "\n",
    "def K_Nearest_Neighbours_Predict(df):\n",
    "    shape = tesla_df.shape[0]\n",
    "    tesla_df_new = tesla_df[['Close']]\n",
    "\n",
    "    train_data_set = tesla_df_new.iloc[:ceil(shape * 0.75)]\n",
    "    test_data_set = tesla_df_new.iloc[ceil(shape * 0.75):]\n",
    "\n",
    "    print(\"*********Tesla STOCK PRICE PREDICTION BY K-NEAREST NEIGHBORS*********\")\n",
    "    print('Shape of Training Data Set', train_data_set.shape)\n",
    "    print('Shape of Test Data Set', test_data_set.shape)\n",
    "\n",
    "    x_train = train_data_set.index.values.reshape(-1, 1)  # Assuming index represents Date\n",
    "    y_train = train_data_set[['Close']]\n",
    "    x_test = test_data_set.index.values.reshape(-1, 1)  # Assuming index represents Date\n",
    "    y_test = test_data_set[['Close']]\n",
    "\n",
    "    scaler = MinMaxScaler()\n",
    "    x_train_scaled = scaler.fit_transform(x_train)\n",
    "    x_train = pd.DataFrame(x_train_scaled)\n",
    "    x_test_scaled = scaler.transform(x_test)\n",
    "    x_test = pd.DataFrame(x_test_scaled)\n",
    "\n",
    "    params = {'n_neighbors': [2, 3, 4, 5, 6, 7, 8, 9]}\n",
    "    knn = neighbors.KNeighborsRegressor()\n",
    "    model = GridSearchCV(knn, params, cv=5)\n",
    "    model.fit(x_train, y_train)\n",
    "    preds = model.predict(x_test)\n",
    "    RMS = np.sqrt(np.mean(np.power((np.array(y_test) - np.array(preds)), 2)))\n",
    "    print('(Root Mean Square Error) RMSE value on validation set:', RMS)\n",
    "    test_data_set['Predictions'] = preds\n",
    "\n",
    "    # Calculate R-squared and adjusted R-squared\n",
    "    r_squared = r2_score(y_test, preds)\n",
    "    n = len(y_test)\n",
    "    p = x_test.shape[1]  # Number of features\n",
    "    adj_r_squared = 1 - (1 - r_squared) * (n - 1) / (n - p - 1)\n",
    "    print(\"R-squared:\", r_squared)\n",
    "    print(\"Adjusted R-squared:\", adj_r_squared)\n",
    "    \n",
    "    \n",
    "    plt.plot(train_data_set['Close'])\n",
    "    plt.plot(test_data_set[['Close', 'Predictions']])\n",
    "    plt.xlabel('Date', size=20)\n",
    "    plt.ylabel('Tesla Stock Price', size=18)\n",
    "    plt.title('Tesla Stock Price Prediction by K-Nearest Neighbors', size=18)\n",
    "    plt.legend(['Model Training Data', 'Actual Data', 'Predicted Data'])\n",
    "    plt.show()\n",
    "\n",
    "K_Nearest_Neighbours_Predict(tesla_df)\n"
   ]
  },
  {
   "cell_type": "code",
   "execution_count": 15,
   "id": "48ff030c",
   "metadata": {},
   "outputs": [
    {
     "name": "stdout",
     "output_type": "stream",
     "text": [
      "         Name       Date         Low        Open        Volume        High  \\\n",
      "3381936  MSFT 1986-03-13    0.088542    0.088542  1.031789e+09    0.101563   \n",
      "3381937  MSFT 1986-03-14    0.097222    0.097222  3.081600e+08    0.102431   \n",
      "3381938  MSFT 1986-03-17    0.100694    0.100694  1.331712e+08    0.103299   \n",
      "3381939  MSFT 1986-03-18    0.098958    0.102431  6.776640e+07    0.103299   \n",
      "3381940  MSFT 1986-03-19    0.097222    0.099826  4.789440e+07    0.100694   \n",
      "...       ...        ...         ...         ...           ...         ...   \n",
      "3391195  MSFT 2022-12-06  243.779999  250.820007  2.246370e+07  251.860001   \n",
      "3391196  MSFT 2022-12-07  242.210007  244.830002  2.048150e+07  246.160004   \n",
      "3391197  MSFT 2022-12-08  243.059998  244.839996  2.261180e+07  248.740005   \n",
      "3391198  MSFT 2022-12-09  244.160004  244.699997  2.060710e+07  248.309998   \n",
      "3391199  MSFT 2022-12-12  247.179993  247.445007  1.000066e+07  252.151596   \n",
      "\n",
      "              Close  Adjusted Close  \n",
      "3381936    0.097222        0.060809  \n",
      "3381937    0.100694        0.062980  \n",
      "3381938    0.102431        0.064067  \n",
      "3381939    0.099826        0.062437  \n",
      "3381940    0.098090        0.061351  \n",
      "...             ...             ...  \n",
      "3391195  245.119995      245.119995  \n",
      "3391196  244.369995      244.369995  \n",
      "3391197  247.399994      247.399994  \n",
      "3391198  245.419998      245.419998  \n",
      "3391199  250.559998      250.559998  \n",
      "\n",
      "[9264 rows x 8 columns]\n"
     ]
    },
    {
     "name": "stderr",
     "output_type": "stream",
     "text": [
      "C:\\Users\\akshi_sh9bvdj\\AppData\\Local\\Temp\\ipykernel_21464\\712666094.py:5: SettingWithCopyWarning: \n",
      "A value is trying to be set on a copy of a slice from a DataFrame\n",
      "\n",
      "See the caveats in the documentation: https://pandas.pydata.org/pandas-docs/stable/user_guide/indexing.html#returning-a-view-versus-a-copy\n",
      "  msft_df.sort_values(by='Date', inplace=True)\n"
     ]
    }
   ],
   "source": [
    "# Filter out Msft data\n",
    "msft_df = stocks_df[stocks_df['Name'] == 'MSFT']\n",
    "\n",
    "# Sort the dataframe by Date\n",
    "msft_df.sort_values(by='Date', inplace=True)\n",
    "print(msft_df)"
   ]
  },
  {
   "cell_type": "code",
   "execution_count": 16,
   "id": "29f604fc",
   "metadata": {},
   "outputs": [
    {
     "data": {
      "text/plain": [
       "Name              0\n",
       "Date              0\n",
       "Low               0\n",
       "Open              0\n",
       "Volume            0\n",
       "High              0\n",
       "Close             0\n",
       "Adjusted Close    0\n",
       "dtype: int64"
      ]
     },
     "execution_count": 16,
     "metadata": {},
     "output_type": "execute_result"
    }
   ],
   "source": [
    "msft_df.isnull().sum()"
   ]
  },
  {
   "cell_type": "code",
   "execution_count": 17,
   "id": "a1ce4de4",
   "metadata": {},
   "outputs": [],
   "source": [
    "# Set 'Date' column as the index\n",
    "msft_df.set_index('Date', inplace=True)"
   ]
  },
  {
   "cell_type": "code",
   "execution_count": 18,
   "id": "558d59f7",
   "metadata": {},
   "outputs": [],
   "source": [
    "import datetime as dt\n",
    "import numpy as np\n",
    "import pandas as pd\n",
    "import matplotlib.pyplot as plt\n",
    "from sklearn import neighbors\n",
    "from sklearn.model_selection import GridSearchCV\n",
    "from math import ceil\n",
    "from sklearn.preprocessing import MinMaxScaler\n",
    "from sklearn.metrics import r2_score"
   ]
  },
  {
   "cell_type": "code",
   "execution_count": 19,
   "id": "48715cd2",
   "metadata": {},
   "outputs": [
    {
     "name": "stdout",
     "output_type": "stream",
     "text": [
      "*********Microsoft STOCK PRICE PREDICTION BY K-NEAREST NEIGHBORS*********\n",
      "Shape of Training Data Set (6948, 1)\n",
      "Shape of Test Data Set (2316, 1)\n",
      "(Root Mean Square Error) RMSE value on validation set: 154.65788307084523\n",
      "R-squared: -1.9983719260478203\n",
      "Adjusted R-squared: -1.9996676788248506\n"
     ]
    },
    {
     "name": "stderr",
     "output_type": "stream",
     "text": [
      "C:\\Users\\akshi_sh9bvdj\\AppData\\Local\\Temp\\ipykernel_21464\\278244403.py:34: SettingWithCopyWarning: \n",
      "A value is trying to be set on a copy of a slice from a DataFrame.\n",
      "Try using .loc[row_indexer,col_indexer] = value instead\n",
      "\n",
      "See the caveats in the documentation: https://pandas.pydata.org/pandas-docs/stable/user_guide/indexing.html#returning-a-view-versus-a-copy\n",
      "  test_data_set_msft['Predictions'] = preds_msft\n"
     ]
    },
    {
     "data": {
      "image/png": "[encoded data removed]",
      "text/plain": [
       "<Figure size 640x480 with 1 Axes>"
      ]
     },
     "metadata": {},
     "output_type": "display_data"
    }
   ],
   "source": [
    "def K_Nearest_Neighbours_Predict_2(msft_df):\n",
    "    shape = msft_df.shape[0]\n",
    "    msft_df_new = msft_df[['Close']]\n",
    "    msft_df_new.head()\n",
    "    \n",
    "    train_data_set_msft = msft_df_new.iloc[:ceil(shape*0.75)]\n",
    "    test_data_set_msft = msft_df_new.iloc[ceil(shape*0.75):]\n",
    "    \n",
    "    print(\"*********Microsoft STOCK PRICE PREDICTION BY K-NEAREST NEIGHBORS*********\")\n",
    "    print('Shape of Training Data Set', train_data_set_msft.shape)\n",
    "    print('Shape of Test Data Set', test_data_set_msft.shape)\n",
    "    \n",
    "    \n",
    "    train_msft = train_data_set_msft.reset_index()\n",
    "    test_msft = test_data_set_msft.reset_index()\n",
    "    x_train_msft = train_msft.index.values.reshape(-1, 1)  # Assuming index represents Date\n",
    "    y_train_msft = train_msft[['Close']]\n",
    "    x_test_msft= test_msft.index.values.reshape(-1, 1)  # Assuming index represents Date\n",
    "    y_test_msft= test_msft[['Close']]\n",
    "    \n",
    "    scaler = MinMaxScaler()\n",
    "    x_train_scaled_msft = scaler.fit_transform(x_train_msft)\n",
    "    x_train_msft = pd.DataFrame(x_train_scaled_msft)\n",
    "    x_test_scaled_msft = scaler.transform(x_test_msft)\n",
    "    x_test_msft = pd.DataFrame(x_test_scaled_msft)\n",
    "    \n",
    "    params_msft = {'n_neighbors': [2, 3, 4, 5, 6, 7, 8, 9]}\n",
    "    knn = neighbors.KNeighborsRegressor()\n",
    "    model_msft = GridSearchCV(knn, params_msft, cv=5)\n",
    "    model_msft.fit(x_train_msft, y_train_msft)\n",
    "    preds_msft = model_msft.predict(x_test_msft)\n",
    "    RMS_msft= np.sqrt(np.mean(np.power((np.array(y_test_msft) - np.array(preds_msft)), 2)))\n",
    "    print('(Root Mean Square Error) RMSE value on validation set:', RMS_msft)\n",
    "    test_data_set_msft['Predictions'] = preds_msft\n",
    "\n",
    "    # Calculate R-squared and adjusted R-squared\n",
    "    r_squared_msft = r2_score(y_test_msft, preds_msft)\n",
    "    n_msft = len(y_test_msft)\n",
    "    p_msft= x_test_msft.shape[1]  # Number of features\n",
    "    adj_r_squared_msft = 1 - (1 - r_squared_msft) * (n_msft - 1) / (n_msft - p_msft - 1)\n",
    "    print(\"R-squared:\", r_squared_msft)\n",
    "    print(\"Adjusted R-squared:\", adj_r_squared_msft)\n",
    "\n",
    "    plt.plot(train_data_set_msft['Close'])\n",
    "    plt.plot(test_data_set_msft[['Close', 'Predictions']])\n",
    "    plt.xlabel('Date', size=20)\n",
    "    plt.ylabel('Microsoft Stock Price', size=18)\n",
    "    plt.title('Microsoft Stock Price Prediction by K-Nearest Neighbors', size=18)\n",
    "    plt.legend(['Model Training Data', 'Actual Data', 'Predicted Data'])\n",
    "    plt.show()\n",
    "\n",
    "# Example usage:\n",
    "K_Nearest_Neighbours_Predict_2(msft_df)"
   ]
  },
  {
   "cell_type": "code",
   "execution_count": null,
   "id": "880453f8",
   "metadata": {},
   "outputs": [],
   "source": []
  }
 ],
 "metadata": {
  "kernelspec": {
   "display_name": "Python 3 (ipykernel)",
   "language": "python",
   "name": "python3"
  },
  "language_info": {
   "codemirror_mode": {
    "name": "ipython",
    "version": 3
   },
   "file_extension": ".py",
   "mimetype": "text/x-python",
   "name": "python",
   "nbconvert_exporter": "python",
   "pygments_lexer": "ipython3",
   "version": "3.12.2"
  }
 },
 "nbformat": 4,
 "nbformat_minor": 5
}
