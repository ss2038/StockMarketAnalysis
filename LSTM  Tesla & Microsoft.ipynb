{
 "cells": [
  {
   "cell_type": "code",
   "execution_count": 1,
   "id": "2e2e0383",
   "metadata": {},
   "outputs": [],
   "source": [
    "import numpy as np\n",
    "import pandas as pd \n",
    "from sklearn.metrics import accuracy_score\n",
    "import plotly.express as px\n",
    "import plotly.graph_objects as go\n",
    "from plotly.subplots import make_subplots\n",
    "import plotly.io as pio\n",
    "pio.templates.default = \"plotly_white\"\n",
    "import matplotlib.pyplot as plt\n",
    "import os\n",
    "from mplfinance.original_flavor import candlestick_ohlc\n",
    "import matplotlib.dates as mdates\n",
    "import seaborn as sns\n",
    "from sklearn.preprocessing import MinMaxScaler\n",
    "from tensorflow.keras.models import Sequential\n",
    "from tensorflow.keras.layers import LSTM, Dense\n",
    "from sklearn.metrics import mean_squared_error"
   ]
  },
  {
   "cell_type": "code",
   "execution_count": 2,
   "id": "2cf266ca",
   "metadata": {},
   "outputs": [
    {
     "name": "stdout",
     "output_type": "stream",
     "text": [
      "Requirement already satisfied: tensorflow in c:\\users\\akshi_sh9bvdj\\anaconda3\\lib\\site-packages (2.16.1)\n",
      "Requirement already satisfied: tensorflow-intel==2.16.1 in c:\\users\\akshi_sh9bvdj\\anaconda3\\lib\\site-packages (from tensorflow) (2.16.1)\n",
      "Requirement already satisfied: absl-py>=1.0.0 in c:\\users\\akshi_sh9bvdj\\anaconda3\\lib\\site-packages (from tensorflow-intel==2.16.1->tensorflow) (2.1.0)\n",
      "Requirement already satisfied: astunparse>=1.6.0 in c:\\users\\akshi_sh9bvdj\\anaconda3\\lib\\site-packages (from tensorflow-intel==2.16.1->tensorflow) (1.6.3)\n",
      "Requirement already satisfied: flatbuffers>=23.5.26 in c:\\users\\akshi_sh9bvdj\\anaconda3\\lib\\site-packages (from tensorflow-intel==2.16.1->tensorflow) (24.3.25)\n",
      "Requirement already satisfied: gast!=0.5.0,!=0.5.1,!=0.5.2,>=0.2.1 in c:\\users\\akshi_sh9bvdj\\anaconda3\\lib\\site-packages (from tensorflow-intel==2.16.1->tensorflow) (0.5.4)\n",
      "Requirement already satisfied: google-pasta>=0.1.1 in c:\\users\\akshi_sh9bvdj\\anaconda3\\lib\\site-packages (from tensorflow-intel==2.16.1->tensorflow) (0.2.0)\n",
      "Requirement already satisfied: h5py>=3.10.0 in c:\\users\\akshi_sh9bvdj\\anaconda3\\lib\\site-packages (from tensorflow-intel==2.16.1->tensorflow) (3.11.0)\n",
      "Requirement already satisfied: libclang>=13.0.0 in c:\\users\\akshi_sh9bvdj\\anaconda3\\lib\\site-packages (from tensorflow-intel==2.16.1->tensorflow) (18.1.1)\n",
      "Requirement already satisfied: ml-dtypes~=0.3.1 in c:\\users\\akshi_sh9bvdj\\anaconda3\\lib\\site-packages (from tensorflow-intel==2.16.1->tensorflow) (0.3.2)\n",
      "Requirement already satisfied: opt-einsum>=2.3.2 in c:\\users\\akshi_sh9bvdj\\anaconda3\\lib\\site-packages (from tensorflow-intel==2.16.1->tensorflow) (3.3.0)\n",
      "Requirement already satisfied: packaging in c:\\users\\akshi_sh9bvdj\\anaconda3\\lib\\site-packages (from tensorflow-intel==2.16.1->tensorflow) (23.1)\n",
      "Requirement already satisfied: protobuf!=4.21.0,!=4.21.1,!=4.21.2,!=4.21.3,!=4.21.4,!=4.21.5,<5.0.0dev,>=3.20.3 in c:\\users\\akshi_sh9bvdj\\anaconda3\\lib\\site-packages (from tensorflow-intel==2.16.1->tensorflow) (4.25.3)\n",
      "Requirement already satisfied: requests<3,>=2.21.0 in c:\\users\\akshi_sh9bvdj\\anaconda3\\lib\\site-packages (from tensorflow-intel==2.16.1->tensorflow) (2.31.0)\n",
      "Requirement already satisfied: setuptools in c:\\users\\akshi_sh9bvdj\\anaconda3\\lib\\site-packages (from tensorflow-intel==2.16.1->tensorflow) (68.0.0)\n",
      "Requirement already satisfied: six>=1.12.0 in c:\\users\\akshi_sh9bvdj\\anaconda3\\lib\\site-packages (from tensorflow-intel==2.16.1->tensorflow) (1.16.0)\n",
      "Requirement already satisfied: termcolor>=1.1.0 in c:\\users\\akshi_sh9bvdj\\anaconda3\\lib\\site-packages (from tensorflow-intel==2.16.1->tensorflow) (2.4.0)\n",
      "Requirement already satisfied: typing-extensions>=3.6.6 in c:\\users\\akshi_sh9bvdj\\anaconda3\\lib\\site-packages (from tensorflow-intel==2.16.1->tensorflow) (4.7.1)\n",
      "Requirement already satisfied: wrapt>=1.11.0 in c:\\users\\akshi_sh9bvdj\\anaconda3\\lib\\site-packages (from tensorflow-intel==2.16.1->tensorflow) (1.14.1)\n",
      "Requirement already satisfied: grpcio<2.0,>=1.24.3 in c:\\users\\akshi_sh9bvdj\\anaconda3\\lib\\site-packages (from tensorflow-intel==2.16.1->tensorflow) (1.62.2)\n",
      "Requirement already satisfied: tensorboard<2.17,>=2.16 in c:\\users\\akshi_sh9bvdj\\anaconda3\\lib\\site-packages (from tensorflow-intel==2.16.1->tensorflow) (2.16.2)\n",
      "Requirement already satisfied: keras>=3.0.0 in c:\\users\\akshi_sh9bvdj\\anaconda3\\lib\\site-packages (from tensorflow-intel==2.16.1->tensorflow) (3.2.1)\n",
      "Requirement already satisfied: tensorflow-io-gcs-filesystem>=0.23.1 in c:\\users\\akshi_sh9bvdj\\anaconda3\\lib\\site-packages (from tensorflow-intel==2.16.1->tensorflow) (0.31.0)\n",
      "Requirement already satisfied: numpy<2.0.0,>=1.23.5 in c:\\users\\akshi_sh9bvdj\\anaconda3\\lib\\site-packages (from tensorflow-intel==2.16.1->tensorflow) (1.24.3)\n",
      "Requirement already satisfied: wheel<1.0,>=0.23.0 in c:\\users\\akshi_sh9bvdj\\anaconda3\\lib\\site-packages (from astunparse>=1.6.0->tensorflow-intel==2.16.1->tensorflow) (0.38.4)\n",
      "Requirement already satisfied: rich in c:\\users\\akshi_sh9bvdj\\anaconda3\\lib\\site-packages (from keras>=3.0.0->tensorflow-intel==2.16.1->tensorflow) (13.7.1)\n",
      "Requirement already satisfied: namex in c:\\users\\akshi_sh9bvdj\\anaconda3\\lib\\site-packages (from keras>=3.0.0->tensorflow-intel==2.16.1->tensorflow) (0.0.8)\n",
      "Requirement already satisfied: optree in c:\\users\\akshi_sh9bvdj\\anaconda3\\lib\\site-packages (from keras>=3.0.0->tensorflow-intel==2.16.1->tensorflow) (0.11.0)\n",
      "Requirement already satisfied: charset-normalizer<4,>=2 in c:\\users\\akshi_sh9bvdj\\anaconda3\\lib\\site-packages (from requests<3,>=2.21.0->tensorflow-intel==2.16.1->tensorflow) (2.0.4)\n",
      "Requirement already satisfied: idna<4,>=2.5 in c:\\users\\akshi_sh9bvdj\\anaconda3\\lib\\site-packages (from requests<3,>=2.21.0->tensorflow-intel==2.16.1->tensorflow) (3.4)\n",
      "Requirement already satisfied: urllib3<3,>=1.21.1 in c:\\users\\akshi_sh9bvdj\\anaconda3\\lib\\site-packages (from requests<3,>=2.21.0->tensorflow-intel==2.16.1->tensorflow) (1.26.16)\n",
      "Requirement already satisfied: certifi>=2017.4.17 in c:\\users\\akshi_sh9bvdj\\anaconda3\\lib\\site-packages (from requests<3,>=2.21.0->tensorflow-intel==2.16.1->tensorflow) (2023.7.22)\n",
      "Requirement already satisfied: markdown>=2.6.8 in c:\\users\\akshi_sh9bvdj\\anaconda3\\lib\\site-packages (from tensorboard<2.17,>=2.16->tensorflow-intel==2.16.1->tensorflow) (3.4.1)\n",
      "Requirement already satisfied: tensorboard-data-server<0.8.0,>=0.7.0 in c:\\users\\akshi_sh9bvdj\\anaconda3\\lib\\site-packages (from tensorboard<2.17,>=2.16->tensorflow-intel==2.16.1->tensorflow) (0.7.2)\n",
      "Requirement already satisfied: werkzeug>=1.0.1 in c:\\users\\akshi_sh9bvdj\\anaconda3\\lib\\site-packages (from tensorboard<2.17,>=2.16->tensorflow-intel==2.16.1->tensorflow) (2.2.3)\n",
      "Requirement already satisfied: MarkupSafe>=2.1.1 in c:\\users\\akshi_sh9bvdj\\anaconda3\\lib\\site-packages (from werkzeug>=1.0.1->tensorboard<2.17,>=2.16->tensorflow-intel==2.16.1->tensorflow) (2.1.1)\n",
      "Requirement already satisfied: markdown-it-py>=2.2.0 in c:\\users\\akshi_sh9bvdj\\anaconda3\\lib\\site-packages (from rich->keras>=3.0.0->tensorflow-intel==2.16.1->tensorflow) (2.2.0)\n",
      "Requirement already satisfied: pygments<3.0.0,>=2.13.0 in c:\\users\\akshi_sh9bvdj\\anaconda3\\lib\\site-packages (from rich->keras>=3.0.0->tensorflow-intel==2.16.1->tensorflow) (2.15.1)\n",
      "Requirement already satisfied: mdurl~=0.1 in c:\\users\\akshi_sh9bvdj\\anaconda3\\lib\\site-packages (from markdown-it-py>=2.2.0->rich->keras>=3.0.0->tensorflow-intel==2.16.1->tensorflow) (0.1.0)\n",
      "Note: you may need to restart the kernel to use updated packages.\n"
     ]
    }
   ],
   "source": [
    "pip install tensorflow"
   ]
  },
  {
   "cell_type": "code",
   "execution_count": 3,
   "id": "863d134b",
   "metadata": {},
   "outputs": [],
   "source": [
    "folder_path = 'C:\\\\Users\\\\akshi_sh9bvdj\\\\Downloads\\\\archive\\\\stock_market_data\\\\forbes2000\\\\csv'\n",
    "csv_files = [file for file in os.listdir(folder_path) if file.endswith('.csv')]"
   ]
  },
  {
   "cell_type": "code",
   "execution_count": 4,
   "id": "781d4a57",
   "metadata": {},
   "outputs": [],
   "source": [
    "dataframes = [pd.read_csv(os.path.join(folder_path, file)) for file in csv_files]"
   ]
  },
  {
   "cell_type": "code",
   "execution_count": 5,
   "id": "fb358b45",
   "metadata": {},
   "outputs": [],
   "source": [
    "# Combine All the datasets into 1\n",
    "dataframes = []\n",
    "for file in csv_files:\n",
    "    # Read the CSV\n",
    "    df = pd.read_csv(os.path.join(folder_path, file))\n",
    "    \n",
    "    # Add a new column representing the filename without the \".csv\" extension\n",
    "    filename_without_extension = os.path.splitext(file)[0]\n",
    "    df.insert(0, 'Name', filename_without_extension)\n",
    "    df['Name'] = filename_without_extension\n",
    "    dataframes.append(df)\n",
    "\n",
    "# Concatenate all DataFrames\n",
    "stocks_df = pd.concat(dataframes, ignore_index=True)\n",
    "\n",
    "# Save new merged Dataset\n",
    "stocks_df.to_csv('merged_dataset_with_id.csv', index=False)"
   ]
  },
  {
   "cell_type": "code",
   "execution_count": 6,
   "id": "6f17adb7",
   "metadata": {},
   "outputs": [
    {
     "name": "stdout",
     "output_type": "stream",
     "text": [
      "          Name       Date        Low       Open      Volume       High  \\\n",
      "0            A 1999-11-18  28.612303  32.546494  62546380.0  35.765381   \n",
      "1            A 1999-11-19  28.478184  30.713518  15234146.0  30.758226   \n",
      "2            A 1999-11-22  28.657009  29.551144   6577870.0  31.473534   \n",
      "3            A 1999-11-23  28.612303  30.400572   5975611.0  31.205294   \n",
      "4            A 1999-11-24  28.612303  28.701717   4843231.0  29.998213   \n",
      "...        ...        ...        ...        ...         ...        ...   \n",
      "5601966  ZURVY 2022-12-06  47.810001  48.029999     42700.0  48.209999   \n",
      "5601967  ZURVY 2022-12-07  47.740002  47.959999     74800.0  48.130001   \n",
      "5601968  ZURVY 2022-12-08  47.880001  47.950001     72300.0  48.290001   \n",
      "5601969  ZURVY 2022-12-09  48.259998  48.470001     65600.0  48.740002   \n",
      "5601970  ZURVY 2022-12-12  48.044998  48.189999     13244.0  48.189999   \n",
      "\n",
      "             Close  Adjusted Close  \n",
      "0        31.473534       27.066582  \n",
      "1        28.880545       24.836662  \n",
      "2        31.473534       27.066582  \n",
      "3        28.612303       24.605980  \n",
      "4        29.372318       25.259573  \n",
      "...            ...             ...  \n",
      "5601966  47.980000       47.980000  \n",
      "5601967  47.810001       47.810001  \n",
      "5601968  48.160000       48.160000  \n",
      "5601969  48.310001       48.310001  \n",
      "5601970  48.044998       48.044998  \n",
      "\n",
      "[5601971 rows x 8 columns]\n"
     ]
    }
   ],
   "source": [
    "# Convert Date column to datetime\n",
    "stocks_df['Date'] = pd.to_datetime(stocks_df['Date'], format='%d-%m-%Y')\n",
    "print(stocks_df)"
   ]
  },
  {
   "cell_type": "markdown",
   "id": "281525f7",
   "metadata": {},
   "source": [
    "## Long term- Short term Memory \n",
    "\n",
    "### Introduction : \n",
    "\n",
    "LSTMs are widely used for sequence prediction problems and have proven to be extremely effective. The reason they work so well is that LSTM is able to store past information that is important and forget the information that is not. LSTM has three gates:\n",
    " The input gate: The input gate adds information to the cell state The forget gate: It removes the information that is no longer required by the model The output gate: Output Gate at LSTM selects the information to be shown as output .The LSTM model can be tuned for various parameters such as changing the number of LSTM layers, adding dropout value, or increasing the number of epochs. \n",
    " \n",
    "### We will implement the LSTM model for only Tesla and Microsoft stocks"
   ]
  },
  {
   "cell_type": "code",
   "execution_count": 23,
   "id": "957eb67e",
   "metadata": {},
   "outputs": [
    {
     "name": "stdout",
     "output_type": "stream",
     "text": [
      "         Name       Date         Low        Open       Volume        High  \\\n",
      "5031552  TSLA 2010-06-29    1.169333    1.266667  281494500.0    1.666667   \n",
      "5031553  TSLA 2010-06-30    1.553333    1.719333  257806500.0    2.028000   \n",
      "5031554  TSLA 2010-07-01    1.351333    1.666667  123282000.0    1.728000   \n",
      "5031555  TSLA 2010-07-02    1.247333    1.533333   77097000.0    1.540000   \n",
      "5031556  TSLA 2010-07-06    1.055333    1.333333  103003500.0    1.333333   \n",
      "...       ...        ...         ...         ...          ...         ...   \n",
      "5034684  TSLA 2022-12-06  175.330002  181.220001   92150800.0  183.649994   \n",
      "5034685  TSLA 2022-12-07  172.220001  175.029999   84213300.0  179.380005   \n",
      "5034686  TSLA 2022-12-08  169.059998  172.199997   97624500.0  175.199997   \n",
      "5034687  TSLA 2022-12-09  173.360001  173.839996  104746600.0  182.500000   \n",
      "5034688  TSLA 2022-12-12  170.389999  176.100006   36780366.0  177.359894   \n",
      "\n",
      "              Close  Adjusted Close  \n",
      "5031552    1.592667        1.592667  \n",
      "5031553    1.588667        1.588667  \n",
      "5031554    1.464000        1.464000  \n",
      "5031555    1.280000        1.280000  \n",
      "5031556    1.074000        1.074000  \n",
      "...             ...             ...  \n",
      "5034684  179.820007      179.820007  \n",
      "5034685  174.039993      174.039993  \n",
      "5034686  173.440002      173.440002  \n",
      "5034687  179.050003      179.050003  \n",
      "5034688  172.190002      172.190002  \n",
      "\n",
      "[3137 rows x 8 columns]\n"
     ]
    },
    {
     "name": "stderr",
     "output_type": "stream",
     "text": [
      "C:\\Users\\akshi_sh9bvdj\\AppData\\Local\\Temp\\ipykernel_5468\\3533593648.py:5: SettingWithCopyWarning: \n",
      "A value is trying to be set on a copy of a slice from a DataFrame\n",
      "\n",
      "See the caveats in the documentation: https://pandas.pydata.org/pandas-docs/stable/user_guide/indexing.html#returning-a-view-versus-a-copy\n",
      "  tesla_df.sort_values(by='Date', inplace=True)\n"
     ]
    }
   ],
   "source": [
    "# Filter out Tesla data\n",
    "tesla_df = stocks_df[stocks_df['Name'] == 'TSLA']\n",
    "\n",
    "# Sort the dataframe by Date\n",
    "tesla_df.sort_values(by='Date', inplace=True)\n",
    "print(tesla_df)"
   ]
  },
  {
   "cell_type": "code",
   "execution_count": 30,
   "id": "16336304",
   "metadata": {},
   "outputs": [
    {
     "name": "stderr",
     "output_type": "stream",
     "text": [
      "C:\\Users\\akshi_sh9bvdj\\AppData\\Local\\Temp\\ipykernel_5468\\1996530677.py:3: SettingWithCopyWarning: \n",
      "A value is trying to be set on a copy of a slice from a DataFrame.\n",
      "Try using .loc[row_indexer,col_indexer] = value instead\n",
      "\n",
      "See the caveats in the documentation: https://pandas.pydata.org/pandas-docs/stable/user_guide/indexing.html#returning-a-view-versus-a-copy\n",
      "  tesla_df['Date'] = pd.to_datetime(tesla_df['Date'])\n"
     ]
    }
   ],
   "source": [
    "tesla_df.isnull().sum()\n",
    "# Assuming 'Date' column is present in tesla_df and is properly formatted\n",
    "tesla_df['Date'] = pd.to_datetime(tesla_df['Date'])\n",
    "\n",
    "# Set 'Date' column as the index\n",
    "tesla_df.set_index('Date', inplace=True)"
   ]
  },
  {
   "cell_type": "code",
   "execution_count": 31,
   "id": "1edd5323",
   "metadata": {},
   "outputs": [
    {
     "data": {
      "text/plain": [
       "2981"
      ]
     },
     "execution_count": 31,
     "metadata": {},
     "output_type": "execute_result"
    }
   ],
   "source": [
    "tesla_model_df= tesla_df.filter(['Close'])\n",
    "dataset= tesla_model_df.values\n",
    "\n",
    "# Get the number of rows to train the model on\n",
    "training_data_len = int(np.ceil( len(dataset) * .95 ))\n",
    "\n",
    "training_data_len"
   ]
  },
  {
   "cell_type": "code",
   "execution_count": 32,
   "id": "f9b4a75f",
   "metadata": {},
   "outputs": [
    {
     "data": {
      "text/plain": [
       "array([[0.00131893],\n",
       "       [0.00130915],\n",
       "       [0.00100428],\n",
       "       ...,\n",
       "       [0.42156919],\n",
       "       [0.43528837],\n",
       "       [0.41851233]])"
      ]
     },
     "execution_count": 32,
     "metadata": {},
     "output_type": "execute_result"
    }
   ],
   "source": [
    "# Scale the data\n",
    "from sklearn.preprocessing import MinMaxScaler\n",
    "\n",
    "scaler = MinMaxScaler(feature_range=(0,1))\n",
    "scaled_data = scaler.fit_transform(dataset)\n",
    "\n",
    "scaled_data"
   ]
  },
  {
   "cell_type": "code",
   "execution_count": 33,
   "id": "7fa5ab94",
   "metadata": {},
   "outputs": [],
   "source": [
    "train_data = scaled_data[0:int(training_data_len), :]"
   ]
  },
  {
   "cell_type": "code",
   "execution_count": 34,
   "id": "b288d60d",
   "metadata": {},
   "outputs": [
    {
     "name": "stdout",
     "output_type": "stream",
     "text": [
      "[[0.00131893]\n",
      " [0.00130915]\n",
      " [0.00100428]\n",
      " ...\n",
      " [0.71599756]\n",
      " [0.71273689]\n",
      " [0.70723454]]\n"
     ]
    }
   ],
   "source": [
    "print(train_data)"
   ]
  },
  {
   "cell_type": "code",
   "execution_count": 38,
   "id": "0de9b6ad",
   "metadata": {},
   "outputs": [],
   "source": [
    "# Split the data into x_train and y_train data sets\n",
    "x_train = []\n",
    "y_train = []\n"
   ]
  },
  {
   "cell_type": "code",
   "execution_count": 39,
   "id": "91f3ce15",
   "metadata": {},
   "outputs": [
    {
     "name": "stdout",
     "output_type": "stream",
     "text": [
      "[array([1.31893362e-03, 1.30915180e-03, 1.00428027e-03, 5.54310805e-04,\n",
      "       5.05407544e-05, 0.00000000e+00, 2.70634579e-04, 2.60852469e-04,\n",
      "       2.03792057e-04, 3.81495574e-04, 6.58652434e-04, 6.66803171e-04,\n",
      "       7.89077648e-04, 9.96129534e-04, 7.33645693e-04, 7.20604046e-04,\n",
      "       8.47769140e-04, 8.95047734e-04, 8.39618402e-04, 7.74404629e-04,\n",
      "       8.02119295e-04, 7.41799054e-04, 6.74953909e-04, 8.34727493e-04,\n",
      "       1.00264919e-03, 8.90156824e-04, 7.58100530e-04, 6.17893497e-04,\n",
      "       6.19524578e-04, 5.26596139e-04, 3.42368009e-04, 2.93458335e-04,\n",
      "       4.10841611e-04, 4.85837203e-04, 5.46160067e-04, 4.84206122e-04,\n",
      "       4.87468283e-04, 5.38006705e-04, 7.05931027e-04, 5.54310805e-04,\n",
      "       6.68434252e-04, 6.43979415e-04, 6.35826345e-04, 6.63543343e-04,\n",
      "       5.99960650e-04, 7.58100530e-04, 8.57551250e-04, 8.55919878e-04,\n",
      "       7.72773549e-04, 8.31465041e-04, 8.00490546e-04, 7.12453017e-04,\n",
      "       8.02119295e-04, 8.67333068e-04, 1.00754010e-03, 8.37987322e-04,\n",
      "       7.22235126e-04, 8.57551250e-04, 8.10272656e-04, 6.63543343e-04])]\n",
      "[0.0006130025882602297]\n",
      "\n",
      "[array([1.31893362e-03, 1.30915180e-03, 1.00428027e-03, 5.54310805e-04,\n",
      "       5.05407544e-05, 0.00000000e+00, 2.70634579e-04, 2.60852469e-04,\n",
      "       2.03792057e-04, 3.81495574e-04, 6.58652434e-04, 6.66803171e-04,\n",
      "       7.89077648e-04, 9.96129534e-04, 7.33645693e-04, 7.20604046e-04,\n",
      "       8.47769140e-04, 8.95047734e-04, 8.39618402e-04, 7.74404629e-04,\n",
      "       8.02119295e-04, 7.41799054e-04, 6.74953909e-04, 8.34727493e-04,\n",
      "       1.00264919e-03, 8.90156824e-04, 7.58100530e-04, 6.17893497e-04,\n",
      "       6.19524578e-04, 5.26596139e-04, 3.42368009e-04, 2.93458335e-04,\n",
      "       4.10841611e-04, 4.85837203e-04, 5.46160067e-04, 4.84206122e-04,\n",
      "       4.87468283e-04, 5.38006705e-04, 7.05931027e-04, 5.54310805e-04,\n",
      "       6.68434252e-04, 6.43979415e-04, 6.35826345e-04, 6.63543343e-04,\n",
      "       5.99960650e-04, 7.58100530e-04, 8.57551250e-04, 8.55919878e-04,\n",
      "       7.72773549e-04, 8.31465041e-04, 8.00490546e-04, 7.12453017e-04,\n",
      "       8.02119295e-04, 8.67333068e-04, 1.00754010e-03, 8.37987322e-04,\n",
      "       7.22235126e-04, 8.57551250e-04, 8.10272656e-04, 6.63543343e-04]), array([1.30915180e-03, 1.00428027e-03, 5.54310805e-04, 5.05407544e-05,\n",
      "       0.00000000e+00, 2.70634579e-04, 2.60852469e-04, 2.03792057e-04,\n",
      "       3.81495574e-04, 6.58652434e-04, 6.66803171e-04, 7.89077648e-04,\n",
      "       9.96129534e-04, 7.33645693e-04, 7.20604046e-04, 8.47769140e-04,\n",
      "       8.95047734e-04, 8.39618402e-04, 7.74404629e-04, 8.02119295e-04,\n",
      "       7.41799054e-04, 6.74953909e-04, 8.34727493e-04, 1.00264919e-03,\n",
      "       8.90156824e-04, 7.58100530e-04, 6.17893497e-04, 6.19524578e-04,\n",
      "       5.26596139e-04, 3.42368009e-04, 2.93458335e-04, 4.10841611e-04,\n",
      "       4.85837203e-04, 5.46160067e-04, 4.84206122e-04, 4.87468283e-04,\n",
      "       5.38006705e-04, 7.05931027e-04, 5.54310805e-04, 6.68434252e-04,\n",
      "       6.43979415e-04, 6.35826345e-04, 6.63543343e-04, 5.99960650e-04,\n",
      "       7.58100530e-04, 8.57551250e-04, 8.55919878e-04, 7.72773549e-04,\n",
      "       8.31465041e-04, 8.00490546e-04, 7.12453017e-04, 8.02119295e-04,\n",
      "       8.67333068e-04, 1.00754010e-03, 8.37987322e-04, 7.22235126e-04,\n",
      "       8.57551250e-04, 8.10272656e-04, 6.63543343e-04, 6.13002588e-04])]\n",
      "[0.0006130025882602297, 0.0007010401180385182]\n",
      "\n"
     ]
    }
   ],
   "source": [
    "for i in range(60, len(train_data)):\n",
    "    x_train.append(train_data[i-60:i, 0])\n",
    "    y_train.append(train_data[i, 0])\n",
    "    if i<= 61:\n",
    "        print(x_train)\n",
    "        print(y_train)\n",
    "        print()"
   ]
  },
  {
   "cell_type": "code",
   "execution_count": 40,
   "id": "a4629aec",
   "metadata": {},
   "outputs": [],
   "source": [
    "# Convert the x_train and y_train to numpy arrays \n",
    "x_train, y_train = np.array(x_train), np.array(y_train)"
   ]
  },
  {
   "cell_type": "code",
   "execution_count": 41,
   "id": "03e39d3b",
   "metadata": {},
   "outputs": [
    {
     "data": {
      "text/plain": [
       "(2921, 60, 1)"
      ]
     },
     "execution_count": 41,
     "metadata": {},
     "output_type": "execute_result"
    }
   ],
   "source": [
    "# Reshape the data\n",
    "x_train = np.reshape(x_train, (x_train.shape[0], x_train.shape[1], 1))\n",
    "x_train.shape"
   ]
  },
  {
   "cell_type": "code",
   "execution_count": 42,
   "id": "497e985c",
   "metadata": {},
   "outputs": [
    {
     "name": "stderr",
     "output_type": "stream",
     "text": [
      "C:\\Users\\akshi_sh9bvdj\\anaconda3\\Lib\\site-packages\\keras\\src\\layers\\rnn\\rnn.py:204: UserWarning: Do not pass an `input_shape`/`input_dim` argument to a layer. When using Sequential models, prefer using an `Input(shape)` object as the first layer in the model instead.\n",
      "  super().__init__(**kwargs)\n"
     ]
    },
    {
     "name": "stdout",
     "output_type": "stream",
     "text": [
      "\u001b[1m2921/2921\u001b[0m \u001b[32m━━━━━━━━━━━━━━━━━━━━\u001b[0m\u001b[37m\u001b[0m \u001b[1m81s\u001b[0m 26ms/step - loss: 0.0022\n"
     ]
    },
    {
     "data": {
      "text/plain": [
       "<keras.src.callbacks.history.History at 0x21bbee5b190>"
      ]
     },
     "execution_count": 42,
     "metadata": {},
     "output_type": "execute_result"
    }
   ],
   "source": [
    "from keras.models import Sequential\n",
    "from keras.layers import Dense, LSTM\n",
    "\n",
    "# Build the LSTM model\n",
    "model = Sequential()\n",
    "model.add(LSTM(128, return_sequences=True, input_shape= (x_train.shape[1], 1)))\n",
    "model.add(LSTM(64, return_sequences=False))\n",
    "model.add(Dense(25))\n",
    "model.add(Dense(1))\n",
    "\n",
    "# Compile the model\n",
    "model.compile(optimizer='adam', loss='mean_squared_error')\n",
    "\n",
    "# Train the model\n",
    "model.fit(x_train, y_train, batch_size=1, epochs=1)"
   ]
  },
  {
   "cell_type": "code",
   "execution_count": 18,
   "id": "122ce0d3",
   "metadata": {},
   "outputs": [],
   "source": [
    "test_data = scaled_data[training_data_len - 60: , :]\n",
    "# Create the data sets x_test and y_test\n",
    "x_test = []\n",
    "y_test = dataset[training_data_len:, :]\n",
    "for i in range(60, len(test_data)):\n",
    "    x_test.append(test_data[i-60:i, 0])"
   ]
  },
  {
   "cell_type": "code",
   "execution_count": 19,
   "id": "aff6152a",
   "metadata": {},
   "outputs": [
    {
     "data": {
      "text/plain": [
       "(156, 60, 1)"
      ]
     },
     "execution_count": 19,
     "metadata": {},
     "output_type": "execute_result"
    }
   ],
   "source": [
    "# Convert the data to a numpy array\n",
    "x_test = np.array(x_test)\n",
    "\n",
    "# Reshape the data\n",
    "x_test = np.reshape(x_test, (x_test.shape[0], x_test.shape[1], 1 ))\n",
    "x_test.shape"
   ]
  },
  {
   "cell_type": "code",
   "execution_count": 20,
   "id": "153825d1",
   "metadata": {},
   "outputs": [
    {
     "name": "stdout",
     "output_type": "stream",
     "text": [
      "\u001b[1m5/5\u001b[0m \u001b[32m━━━━━━━━━━━━━━━━━━━━\u001b[0m\u001b[37m\u001b[0m \u001b[1m1s\u001b[0m 144ms/step\n"
     ]
    },
    {
     "data": {
      "text/plain": [
       "15.962289123685679"
      ]
     },
     "execution_count": 20,
     "metadata": {},
     "output_type": "execute_result"
    }
   ],
   "source": [
    "#Get the models predicted price values \n",
    "predictions = model.predict(x_test)\n",
    "predictions = scaler.inverse_transform(predictions)\n",
    "\n",
    "# Get the root mean squared error (RMSE)\n",
    "rmse = np.sqrt(np.mean(((predictions - y_test) ** 2)))\n",
    "rmse"
   ]
  },
  {
   "cell_type": "code",
   "execution_count": 43,
   "id": "b98c5030",
   "metadata": {},
   "outputs": [
    {
     "name": "stderr",
     "output_type": "stream",
     "text": [
      "C:\\Users\\akshi_sh9bvdj\\AppData\\Local\\Temp\\ipykernel_5468\\3905864600.py:4: SettingWithCopyWarning: \n",
      "A value is trying to be set on a copy of a slice from a DataFrame.\n",
      "Try using .loc[row_indexer,col_indexer] = value instead\n",
      "\n",
      "See the caveats in the documentation: https://pandas.pydata.org/pandas-docs/stable/user_guide/indexing.html#returning-a-view-versus-a-copy\n",
      "  valid['Predictions'] = predictions\n"
     ]
    },
    {
     "data": {
      "image/png": "[encoded data removed]",
      "text/plain": [
       "<Figure size 1600x600 with 1 Axes>"
      ]
     },
     "metadata": {},
     "output_type": "display_data"
    }
   ],
   "source": [
    "# Plot the data\n",
    "train = tesla_model_df[:training_data_len]\n",
    "valid = tesla_model_df[training_data_len:]\n",
    "valid['Predictions'] = predictions\n",
    "\n",
    "\n",
    "\n",
    "# Visualize the data\n",
    "plt.figure(figsize=(16,6))\n",
    "plt.title('Model')\n",
    "plt.xlabel('Date', fontsize=18)\n",
    "plt.ylabel('Close Price USD ($)', fontsize=18)\n",
    "plt.plot(train['Close'])\n",
    "plt.plot(valid[['Close', 'Predictions']])\n",
    "plt.legend(['Train', 'Val', 'Predictions'], loc='lower right')\n",
    "\n",
    "# Format the date on the x-axis\n",
    "plt.xticks(rotation=45)  # Rotate x-axis labels for better readability\n",
    "\n",
    "plt.show()\n"
   ]
  },
  {
   "cell_type": "code",
   "execution_count": 44,
   "id": "27d2fbba",
   "metadata": {},
   "outputs": [
    {
     "name": "stdout",
     "output_type": "stream",
     "text": [
      "Mean Absolute Error (MAE): 12.805823301657652\n",
      "Mean Squared Error (MSE): 254.79467406813413\n",
      "Root Mean Squared Error (RMSE): 15.962289123685679\n"
     ]
    }
   ],
   "source": [
    "from sklearn.metrics import mean_absolute_error, mean_squared_error\n",
    "import numpy as np\n",
    "# Extract actual and predicted values\n",
    "actual_values = valid['Close']\n",
    "predicted_values = valid['Predictions']\n",
    "\n",
    "# Calculate Mean Absolute Error (MAE)\n",
    "mae = mean_absolute_error(actual_values, predicted_values)\n",
    "\n",
    "# Calculate Mean Squared Error (MSE)\n",
    "mse = mean_squared_error(actual_values, predicted_values)\n",
    "\n",
    "# Calculate Root Mean Squared Error (RMSE)\n",
    "rmse = np.sqrt(mse)\n",
    "\n",
    "print(\"Mean Absolute Error (MAE):\", mae)\n",
    "print(\"Mean Squared Error (MSE):\", mse)\n",
    "print(\"Root Mean Squared Error (RMSE):\", rmse)"
   ]
  },
  {
   "cell_type": "code",
   "execution_count": 45,
   "id": "074563d5",
   "metadata": {},
   "outputs": [
    {
     "name": "stdout",
     "output_type": "stream",
     "text": [
      "R-squared: 0.8389518741296215\n",
      "Adjusted R-squared: 25.962459509908673\n"
     ]
    }
   ],
   "source": [
    "from sklearn.metrics import r2_score\n",
    "import statsmodels.api as sm\n",
    "# Calculate R-squared\n",
    "r_squared = r2_score(actual_values, predicted_values)\n",
    "\n",
    "# Number of predictors in the model\n",
    "num_predictors = len(predicted_values)\n",
    "\n",
    "# Calculate Adjusted R-squared\n",
    "# Note: The -1 is due to the intercept term in the model\n",
    "adjusted_r_squared = 1 - (1 - r_squared) * ((len(actual_values) - 1) / (len(actual_values) - num_predictors - 1))\n",
    "\n",
    "print(\"R-squared:\", r_squared)\n",
    "print(\"Adjusted R-squared:\", adjusted_r_squared)"
   ]
  },
  {
   "cell_type": "code",
   "execution_count": 50,
   "id": "bb818fee",
   "metadata": {},
   "outputs": [
    {
     "name": "stdout",
     "output_type": "stream",
     "text": [
      "         Name       Date         Low        Open        Volume        High  \\\n",
      "3381936  MSFT 1986-03-13    0.088542    0.088542  1.031789e+09    0.101563   \n",
      "3381937  MSFT 1986-03-14    0.097222    0.097222  3.081600e+08    0.102431   \n",
      "3381938  MSFT 1986-03-17    0.100694    0.100694  1.331712e+08    0.103299   \n",
      "3381939  MSFT 1986-03-18    0.098958    0.102431  6.776640e+07    0.103299   \n",
      "3381940  MSFT 1986-03-19    0.097222    0.099826  4.789440e+07    0.100694   \n",
      "...       ...        ...         ...         ...           ...         ...   \n",
      "3391195  MSFT 2022-12-06  243.779999  250.820007  2.246370e+07  251.860001   \n",
      "3391196  MSFT 2022-12-07  242.210007  244.830002  2.048150e+07  246.160004   \n",
      "3391197  MSFT 2022-12-08  243.059998  244.839996  2.261180e+07  248.740005   \n",
      "3391198  MSFT 2022-12-09  244.160004  244.699997  2.060710e+07  248.309998   \n",
      "3391199  MSFT 2022-12-12  247.179993  247.445007  1.000066e+07  252.151596   \n",
      "\n",
      "              Close  Adjusted Close  \n",
      "3381936    0.097222        0.060809  \n",
      "3381937    0.100694        0.062980  \n",
      "3381938    0.102431        0.064067  \n",
      "3381939    0.099826        0.062437  \n",
      "3381940    0.098090        0.061351  \n",
      "...             ...             ...  \n",
      "3391195  245.119995      245.119995  \n",
      "3391196  244.369995      244.369995  \n",
      "3391197  247.399994      247.399994  \n",
      "3391198  245.419998      245.419998  \n",
      "3391199  250.559998      250.559998  \n",
      "\n",
      "[9264 rows x 8 columns]\n"
     ]
    },
    {
     "name": "stderr",
     "output_type": "stream",
     "text": [
      "C:\\Users\\akshi_sh9bvdj\\AppData\\Local\\Temp\\ipykernel_5468\\3414701632.py:6: SettingWithCopyWarning: \n",
      "A value is trying to be set on a copy of a slice from a DataFrame\n",
      "\n",
      "See the caveats in the documentation: https://pandas.pydata.org/pandas-docs/stable/user_guide/indexing.html#returning-a-view-versus-a-copy\n",
      "  msft_df.sort_values(by='Date', inplace=True)\n"
     ]
    }
   ],
   "source": [
    "#microsoft\n",
    "# Filter out msft data\n",
    "msft_df = stocks_df[stocks_df['Name'] == 'MSFT']\n",
    "\n",
    "# Sort the dataframe by Date\n",
    "msft_df.sort_values(by='Date', inplace=True)\n",
    "print(msft_df)"
   ]
  },
  {
   "cell_type": "code",
   "execution_count": 51,
   "id": "3de8abd9",
   "metadata": {},
   "outputs": [
    {
     "data": {
      "text/plain": [
       "Name              0\n",
       "Date              0\n",
       "Low               0\n",
       "Open              0\n",
       "Volume            0\n",
       "High              0\n",
       "Close             0\n",
       "Adjusted Close    0\n",
       "dtype: int64"
      ]
     },
     "execution_count": 51,
     "metadata": {},
     "output_type": "execute_result"
    }
   ],
   "source": [
    "msft_df.isnull().sum()\n"
   ]
  },
  {
   "cell_type": "code",
   "execution_count": 52,
   "id": "87eb3bf3",
   "metadata": {},
   "outputs": [
    {
     "name": "stderr",
     "output_type": "stream",
     "text": [
      "C:\\Users\\akshi_sh9bvdj\\AppData\\Local\\Temp\\ipykernel_5468\\1519385047.py:2: SettingWithCopyWarning: \n",
      "A value is trying to be set on a copy of a slice from a DataFrame.\n",
      "Try using .loc[row_indexer,col_indexer] = value instead\n",
      "\n",
      "See the caveats in the documentation: https://pandas.pydata.org/pandas-docs/stable/user_guide/indexing.html#returning-a-view-versus-a-copy\n",
      "  msft_df['Date'] = pd.to_datetime(msft_df['Date'])\n"
     ]
    }
   ],
   "source": [
    "# Assuming 'Date' column is present in msft_df and is properly formatted\n",
    "msft_df['Date'] = pd.to_datetime(msft_df['Date'])\n",
    "\n",
    "# Set 'Date' column as the index\n",
    "msft_df.set_index('Date', inplace=True)"
   ]
  },
  {
   "cell_type": "code",
   "execution_count": 53,
   "id": "8995dfd1",
   "metadata": {},
   "outputs": [
    {
     "data": {
      "text/plain": [
       "2981"
      ]
     },
     "execution_count": 53,
     "metadata": {},
     "output_type": "execute_result"
    }
   ],
   "source": [
    "msft_model_df= msft_df.filter(['Close'])\n",
    "dataset_msft= msft_model_df.values\n",
    "# Get the number of rows to train the model on\n",
    "training_data_len_msft = int(np.ceil( len(dataset) * .95 ))\n",
    "\n",
    "training_data_len_msft"
   ]
  },
  {
   "cell_type": "code",
   "execution_count": 54,
   "id": "7b5275d4",
   "metadata": {},
   "outputs": [
    {
     "data": {
      "text/plain": [
       "array([[2.02437369e-05],\n",
       "       [3.03656054e-05],\n",
       "       [3.54294502e-05],\n",
       "       ...,\n",
       "       [7.20978155e-01],\n",
       "       [7.15205905e-01],\n",
       "       [7.30190465e-01]])"
      ]
     },
     "execution_count": 54,
     "metadata": {},
     "output_type": "execute_result"
    }
   ],
   "source": [
    "# Scale the data\n",
    "from sklearn.preprocessing import MinMaxScaler\n",
    "\n",
    "scaler = MinMaxScaler(feature_range=(0,1))\n",
    "scaled_data_msft = scaler.fit_transform(dataset_msft)\n",
    "\n",
    "scaled_data_msft"
   ]
  },
  {
   "cell_type": "code",
   "execution_count": 55,
   "id": "d5868ac6",
   "metadata": {},
   "outputs": [],
   "source": [
    "train_data_msft = scaled_data[0:int(training_data_len_msft), :]"
   ]
  },
  {
   "cell_type": "code",
   "execution_count": 56,
   "id": "c8113475",
   "metadata": {},
   "outputs": [
    {
     "name": "stdout",
     "output_type": "stream",
     "text": [
      "[[0.00131893]\n",
      " [0.00130915]\n",
      " [0.00100428]\n",
      " ...\n",
      " [0.71599756]\n",
      " [0.71273689]\n",
      " [0.70723454]]\n"
     ]
    }
   ],
   "source": [
    "print(train_data_msft)"
   ]
  },
  {
   "cell_type": "code",
   "execution_count": 57,
   "id": "ce6f500f",
   "metadata": {},
   "outputs": [
    {
     "name": "stdout",
     "output_type": "stream",
     "text": [
      "[array([1.31893362e-03, 1.30915180e-03, 1.00428027e-03, 5.54310805e-04,\n",
      "       5.05407544e-05, 0.00000000e+00, 2.70634579e-04, 2.60852469e-04,\n",
      "       2.03792057e-04, 3.81495574e-04, 6.58652434e-04, 6.66803171e-04,\n",
      "       7.89077648e-04, 9.96129534e-04, 7.33645693e-04, 7.20604046e-04,\n",
      "       8.47769140e-04, 8.95047734e-04, 8.39618402e-04, 7.74404629e-04,\n",
      "       8.02119295e-04, 7.41799054e-04, 6.74953909e-04, 8.34727493e-04,\n",
      "       1.00264919e-03, 8.90156824e-04, 7.58100530e-04, 6.17893497e-04,\n",
      "       6.19524578e-04, 5.26596139e-04, 3.42368009e-04, 2.93458335e-04,\n",
      "       4.10841611e-04, 4.85837203e-04, 5.46160067e-04, 4.84206122e-04,\n",
      "       4.87468283e-04, 5.38006705e-04, 7.05931027e-04, 5.54310805e-04,\n",
      "       6.68434252e-04, 6.43979415e-04, 6.35826345e-04, 6.63543343e-04,\n",
      "       5.99960650e-04, 7.58100530e-04, 8.57551250e-04, 8.55919878e-04,\n",
      "       7.72773549e-04, 8.31465041e-04, 8.00490546e-04, 7.12453017e-04,\n",
      "       8.02119295e-04, 8.67333068e-04, 1.00754010e-03, 8.37987322e-04,\n",
      "       7.22235126e-04, 8.57551250e-04, 8.10272656e-04, 6.63543343e-04])]\n",
      "[0.0006130025882602297]\n",
      "\n",
      "[array([1.31893362e-03, 1.30915180e-03, 1.00428027e-03, 5.54310805e-04,\n",
      "       5.05407544e-05, 0.00000000e+00, 2.70634579e-04, 2.60852469e-04,\n",
      "       2.03792057e-04, 3.81495574e-04, 6.58652434e-04, 6.66803171e-04,\n",
      "       7.89077648e-04, 9.96129534e-04, 7.33645693e-04, 7.20604046e-04,\n",
      "       8.47769140e-04, 8.95047734e-04, 8.39618402e-04, 7.74404629e-04,\n",
      "       8.02119295e-04, 7.41799054e-04, 6.74953909e-04, 8.34727493e-04,\n",
      "       1.00264919e-03, 8.90156824e-04, 7.58100530e-04, 6.17893497e-04,\n",
      "       6.19524578e-04, 5.26596139e-04, 3.42368009e-04, 2.93458335e-04,\n",
      "       4.10841611e-04, 4.85837203e-04, 5.46160067e-04, 4.84206122e-04,\n",
      "       4.87468283e-04, 5.38006705e-04, 7.05931027e-04, 5.54310805e-04,\n",
      "       6.68434252e-04, 6.43979415e-04, 6.35826345e-04, 6.63543343e-04,\n",
      "       5.99960650e-04, 7.58100530e-04, 8.57551250e-04, 8.55919878e-04,\n",
      "       7.72773549e-04, 8.31465041e-04, 8.00490546e-04, 7.12453017e-04,\n",
      "       8.02119295e-04, 8.67333068e-04, 1.00754010e-03, 8.37987322e-04,\n",
      "       7.22235126e-04, 8.57551250e-04, 8.10272656e-04, 6.63543343e-04]), array([1.30915180e-03, 1.00428027e-03, 5.54310805e-04, 5.05407544e-05,\n",
      "       0.00000000e+00, 2.70634579e-04, 2.60852469e-04, 2.03792057e-04,\n",
      "       3.81495574e-04, 6.58652434e-04, 6.66803171e-04, 7.89077648e-04,\n",
      "       9.96129534e-04, 7.33645693e-04, 7.20604046e-04, 8.47769140e-04,\n",
      "       8.95047734e-04, 8.39618402e-04, 7.74404629e-04, 8.02119295e-04,\n",
      "       7.41799054e-04, 6.74953909e-04, 8.34727493e-04, 1.00264919e-03,\n",
      "       8.90156824e-04, 7.58100530e-04, 6.17893497e-04, 6.19524578e-04,\n",
      "       5.26596139e-04, 3.42368009e-04, 2.93458335e-04, 4.10841611e-04,\n",
      "       4.85837203e-04, 5.46160067e-04, 4.84206122e-04, 4.87468283e-04,\n",
      "       5.38006705e-04, 7.05931027e-04, 5.54310805e-04, 6.68434252e-04,\n",
      "       6.43979415e-04, 6.35826345e-04, 6.63543343e-04, 5.99960650e-04,\n",
      "       7.58100530e-04, 8.57551250e-04, 8.55919878e-04, 7.72773549e-04,\n",
      "       8.31465041e-04, 8.00490546e-04, 7.12453017e-04, 8.02119295e-04,\n",
      "       8.67333068e-04, 1.00754010e-03, 8.37987322e-04, 7.22235126e-04,\n",
      "       8.57551250e-04, 8.10272656e-04, 6.63543343e-04, 6.13002588e-04])]\n",
      "[0.0006130025882602297, 0.0007010401180385182]\n",
      "\n"
     ]
    }
   ],
   "source": [
    "# Split the data into x_train and y_train data sets\n",
    "x_train_msft = []\n",
    "y_train_msft = []\n",
    "for i in range(60, len(train_data_msft)):\n",
    "    x_train_msft.append(train_data_msft[i-60:i, 0])\n",
    "    y_train_msft.append(train_data_msft[i, 0])\n",
    "    if i<= 61:\n",
    "        print(x_train_msft)\n",
    "        print(y_train_msft)\n",
    "        print()"
   ]
  },
  {
   "cell_type": "code",
   "execution_count": 58,
   "id": "a24e2314",
   "metadata": {},
   "outputs": [
    {
     "data": {
      "text/plain": [
       "(2921, 60, 1)"
      ]
     },
     "execution_count": 58,
     "metadata": {},
     "output_type": "execute_result"
    }
   ],
   "source": [
    "# Convert the x_train and y_train to numpy arrays \n",
    "x_train_msft, y_train_msft = np.array(x_train_msft), np.array(y_train_msft)\n",
    "# Reshape the data\n",
    "x_train_msft= np.reshape(x_train_msft, (x_train_msft.shape[0], x_train_msft.shape[1], 1))\n",
    "x_train_msft.shape"
   ]
  },
  {
   "cell_type": "code",
   "execution_count": 59,
   "id": "8ed8333f",
   "metadata": {},
   "outputs": [
    {
     "name": "stderr",
     "output_type": "stream",
     "text": [
      "C:\\Users\\akshi_sh9bvdj\\anaconda3\\Lib\\site-packages\\keras\\src\\layers\\rnn\\rnn.py:204: UserWarning: Do not pass an `input_shape`/`input_dim` argument to a layer. When using Sequential models, prefer using an `Input(shape)` object as the first layer in the model instead.\n",
      "  super().__init__(**kwargs)\n"
     ]
    },
    {
     "name": "stdout",
     "output_type": "stream",
     "text": [
      "\u001b[1m2921/2921\u001b[0m \u001b[32m━━━━━━━━━━━━━━━━━━━━\u001b[0m\u001b[37m\u001b[0m \u001b[1m80s\u001b[0m 26ms/step - loss: 0.0027\n"
     ]
    },
    {
     "data": {
      "text/plain": [
       "<keras.src.callbacks.history.History at 0x21bc0a031d0>"
      ]
     },
     "execution_count": 59,
     "metadata": {},
     "output_type": "execute_result"
    }
   ],
   "source": [
    "from keras.models import Sequential\n",
    "from keras.layers import Dense, LSTM\n",
    "\n",
    "# Build the LSTM model\n",
    "model = Sequential()\n",
    "model.add(LSTM(128, return_sequences=True, input_shape= (x_train_msft.shape[1], 1)))\n",
    "model.add(LSTM(64, return_sequences=False))\n",
    "model.add(Dense(25))\n",
    "model.add(Dense(1))\n",
    "\n",
    "# Compile the model\n",
    "model.compile(optimizer='adam', loss='mean_squared_error')\n",
    "\n",
    "# Train the model\n",
    "model.fit(x_train_msft, y_train_msft, batch_size=1, epochs=1)"
   ]
  },
  {
   "cell_type": "code",
   "execution_count": 60,
   "id": "77edc352",
   "metadata": {},
   "outputs": [],
   "source": [
    "test_data_msft = scaled_data_msft[training_data_len_msft - 60: , :]\n",
    "# Create the data sets x_test and y_test\n",
    "x_test_msft = []\n",
    "y_test_msft = dataset_msft[training_data_len_msft:, :]\n",
    "for i in range(60, len(test_data_msft)):\n",
    "    x_test_msft.append(test_data_msft[i-60:i, 0])"
   ]
  },
  {
   "cell_type": "code",
   "execution_count": 61,
   "id": "3b471e2b",
   "metadata": {},
   "outputs": [
    {
     "data": {
      "text/plain": [
       "(6283, 60, 1)"
      ]
     },
     "execution_count": 61,
     "metadata": {},
     "output_type": "execute_result"
    }
   ],
   "source": [
    "# Convert the data to a numpy array\n",
    "x_test_msft = np.array(x_test_msft)\n",
    "\n",
    "# Reshape the data\n",
    "x_test_msft= np.reshape(x_test_msft, (x_test_msft.shape[0], x_test_msft.shape[1], 1 ))\n",
    "x_test_msft.shape"
   ]
  },
  {
   "cell_type": "code",
   "execution_count": 62,
   "id": "4602ea24",
   "metadata": {},
   "outputs": [
    {
     "name": "stdout",
     "output_type": "stream",
     "text": [
      "\u001b[1m197/197\u001b[0m \u001b[32m━━━━━━━━━━━━━━━━━━━━\u001b[0m\u001b[37m\u001b[0m \u001b[1m8s\u001b[0m 36ms/step\n"
     ]
    },
    {
     "data": {
      "text/plain": [
       "13.63251812811608"
      ]
     },
     "execution_count": 62,
     "metadata": {},
     "output_type": "execute_result"
    }
   ],
   "source": [
    "#Get the models predicted price values \n",
    "predictions = model.predict(x_test_msft)\n",
    "predictions = scaler.inverse_transform(predictions)\n",
    "\n",
    "# Get the root mean squared error (RMSE)\n",
    "rmse = np.sqrt(np.mean(((predictions - y_test_msft) ** 2)))\n",
    "rmse"
   ]
  },
  {
   "cell_type": "code",
   "execution_count": 63,
   "id": "9f3ee0fd",
   "metadata": {},
   "outputs": [
    {
     "name": "stderr",
     "output_type": "stream",
     "text": [
      "C:\\Users\\akshi_sh9bvdj\\AppData\\Local\\Temp\\ipykernel_5468\\21257766.py:4: SettingWithCopyWarning: \n",
      "A value is trying to be set on a copy of a slice from a DataFrame.\n",
      "Try using .loc[row_indexer,col_indexer] = value instead\n",
      "\n",
      "See the caveats in the documentation: https://pandas.pydata.org/pandas-docs/stable/user_guide/indexing.html#returning-a-view-versus-a-copy\n",
      "  valid['Predictions'] = predictions\n"
     ]
    },
    {
     "data": {
      "image/png": "[encoded data removed]",
      "text/plain": [
       "<Figure size 1600x600 with 1 Axes>"
      ]
     },
     "metadata": {},
     "output_type": "display_data"
    }
   ],
   "source": [
    "# Plot the data\n",
    "train = msft_model_df[:training_data_len_msft]\n",
    "valid = msft_model_df[training_data_len_msft:]\n",
    "valid['Predictions'] = predictions\n",
    "# Visualize the data\n",
    "plt.figure(figsize=(16,6))\n",
    "plt.title('Model')\n",
    "plt.xlabel('Date', fontsize=18)\n",
    "plt.ylabel('Close Price USD ($)', fontsize=18)\n",
    "plt.plot(train['Close'])\n",
    "plt.plot(valid[['Close', 'Predictions']])\n",
    "plt.legend(['Train', 'Val', 'Predictions'], loc='lower right')\n",
    "plt.show()"
   ]
  },
  {
   "cell_type": "code",
   "execution_count": 64,
   "id": "6021ad9f",
   "metadata": {},
   "outputs": [
    {
     "name": "stdout",
     "output_type": "stream",
     "text": [
      "Mean Absolute Error (MAE): 7.703086840732641\n",
      "Mean Squared Error (MSE): 185.84555051341354\n",
      "Root Mean Squared Error (RMSE): 13.63251812811608\n"
     ]
    }
   ],
   "source": [
    "import numpy as np\n",
    "# Extract actual and predicted values\n",
    "actual_values = valid['Close']\n",
    "predicted_values = valid['Predictions']\n",
    "\n",
    "# Calculate Mean Absolute Error (MAE)\n",
    "mae = mean_absolute_error(actual_values, predicted_values)\n",
    "\n",
    "# Calculate Mean Squared Error (MSE)\n",
    "mse = mean_squared_error(actual_values, predicted_values)\n",
    "\n",
    "# Calculate Root Mean Squared Error (RMSE)\n",
    "rmse = np.sqrt(mse)\n",
    "\n",
    "print(\"Mean Absolute Error (MAE):\", mae)\n",
    "print(\"Mean Squared Error (MSE):\", mse)\n",
    "print(\"Root Mean Squared Error (RMSE):\", rmse)"
   ]
  },
  {
   "cell_type": "code",
   "execution_count": 65,
   "id": "4d0152e6",
   "metadata": {},
   "outputs": [
    {
     "name": "stdout",
     "output_type": "stream",
     "text": [
      "R-squared: 0.9647457481109465\n",
      "Adjusted R-squared: 222.46721036703417\n"
     ]
    }
   ],
   "source": [
    "# Calculate R-squared\n",
    "r_squared = r2_score(actual_values, predicted_values)\n",
    "\n",
    "# Number of predictors in the model\n",
    "num_predictors = len(predicted_values)\n",
    "\n",
    "# Calculate Adjusted R-squared\n",
    "# Note: The -1 is due to the intercept term in the model\n",
    "adjusted_r_squared = 1 - (1 - r_squared) * ((len(actual_values) - 1) / (len(actual_values) - num_predictors - 1))\n",
    "\n",
    "print(\"R-squared:\", r_squared)\n",
    "print(\"Adjusted R-squared:\", adjusted_r_squared)"
   ]
  },
  {
   "cell_type": "code",
   "execution_count": null,
   "id": "0cf3d113",
   "metadata": {},
   "outputs": [],
   "source": []
  }
 ],
 "metadata": {
  "kernelspec": {
   "display_name": "Python 3 (ipykernel)",
   "language": "python",
   "name": "python3"
  },
  "language_info": {
   "codemirror_mode": {
    "name": "ipython",
    "version": 3
   },
   "file_extension": ".py",
   "mimetype": "text/x-python",
   "name": "python",
   "nbconvert_exporter": "python",
   "pygments_lexer": "ipython3",
   "version": "3.12.2"
  }
 },
 "nbformat": 4,
 "nbformat_minor": 5
}
